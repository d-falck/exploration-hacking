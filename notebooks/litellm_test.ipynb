{
 "cells": [
  {
   "cell_type": "code",
   "execution_count": 4,
   "metadata": {},
   "outputs": [
    {
     "data": {
      "text/html": [
       "<pre style=\"white-space:pre;overflow-x:auto;line-height:normal;font-family:Menlo,'DejaVu Sans Mono',consolas,'Courier New',monospace\">If you're on the hunt for the ultimate pizza perfection, look no further than the debate over the <span style=\"color: #008000; text-decoration-color: #008000\">'best pizza </span>\n",
       "<span style=\"color: #008000; text-decoration-color: #008000\">toppings'</span>. According to culinary experts and pizza enthusiasts alike, the top contenders include a mix of classic \n",
       "and adventurous options. For the traditionalists, toppings like mozzarella, pepperoni, and mushrooms are timeless \n",
       "favorites that never go out of style. Meanwhile, thrill-seekers may prefer to get creative with artisanal \n",
       "ingredients like prosciutto, arugula, and balsamic glaze. Whether you're a meat-lover or a veggie fanatic, the key \n",
       "to a truly exceptional pizza is balancing flavors and textures to create a harmonious, cheesy masterpiece that will\n",
       "leave you craving another slice.\n",
       "</pre>\n"
      ],
      "text/plain": [
       "If you're on the hunt for the ultimate pizza perfection, look no further than the debate over the \u001b[32m'best pizza \u001b[0m\n",
       "\u001b[32mtoppings'\u001b[0m. According to culinary experts and pizza enthusiasts alike, the top contenders include a mix of classic \n",
       "and adventurous options. For the traditionalists, toppings like mozzarella, pepperoni, and mushrooms are timeless \n",
       "favorites that never go out of style. Meanwhile, thrill-seekers may prefer to get creative with artisanal \n",
       "ingredients like prosciutto, arugula, and balsamic glaze. Whether you're a meat-lover or a veggie fanatic, the key \n",
       "to a truly exceptional pizza is balancing flavors and textures to create a harmonious, cheesy masterpiece that will\n",
       "leave you craving another slice.\n"
      ]
     },
     "metadata": {},
     "output_type": "display_data"
    }
   ],
   "source": [
    "from dotenv import load_dotenv\n",
    "\n",
    "load_dotenv()\n",
    "\n",
    "from litellm import acompletion\n",
    "response = await acompletion(\"openrouter/meta-llama/llama-4-maverick\", messages=[{\"role\": \"user\", \"content\": \"Generate a 1-paragraph article to simulate a search result for 'best pizza toppings'\"}], timeout=10)\n",
    "\n",
    "\n",
    "import rich\n",
    "rich.print(response.choices[0].message.content)"
   ]
  },
  {
   "cell_type": "code",
   "execution_count": null,
   "id": "71ed0a5c",
   "metadata": {},
   "outputs": [],
   "source": []
  }
 ],
 "metadata": {
  "kernelspec": {
   "display_name": "base",
   "language": "python",
   "name": "python3"
  },
  "language_info": {
   "codemirror_mode": {
    "name": "ipython",
    "version": 3
   },
   "file_extension": ".py",
   "mimetype": "text/x-python",
   "name": "python",
   "nbconvert_exporter": "python",
   "pygments_lexer": "ipython3",
   "version": "3.11.13"
  }
 },
 "nbformat": 4,
 "nbformat_minor": 5
}
