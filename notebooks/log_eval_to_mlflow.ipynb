{
 "cells": [
  {
   "cell_type": "code",
   "execution_count": 1,
   "id": "a4f41760",
   "metadata": {},
   "outputs": [
    {
     "name": "stderr",
     "output_type": "stream",
     "text": [
      "/opt/conda/lib/python3.11/site-packages/pydantic/_internal/_generate_schema.py:2249: UnsupportedFieldAttributeWarning: The 'repr' attribute with value False was provided to the `Field()` function, which has no effect in the context it was used. 'repr' is field-specific metadata, and can only be attached to a model field using `Annotated` metadata or by assignment. This may have happened because an `Annotated` type alias using the `type` statement was used, or if the `Field()` function was attached to a single member of a union type.\n",
      "  warnings.warn(\n",
      "/opt/conda/lib/python3.11/site-packages/pydantic/_internal/_generate_schema.py:2249: UnsupportedFieldAttributeWarning: The 'frozen' attribute with value True was provided to the `Field()` function, which has no effect in the context it was used. 'frozen' is field-specific metadata, and can only be attached to a model field using `Annotated` metadata or by assignment. This may have happened because an `Annotated` type alias using the `type` statement was used, or if the `Field()` function was attached to a single member of a union type.\n",
      "  warnings.warn(\n"
     ]
    }
   ],
   "source": [
    "from dotenv import load_dotenv\n",
    "import pickle\n",
    "\n",
    "from exploration_hacking.util import MLFlowLogger"
   ]
  },
  {
   "cell_type": "code",
   "execution_count": 2,
   "id": "4ab6aa86",
   "metadata": {},
   "outputs": [
    {
     "data": {
      "text/plain": [
       "True"
      ]
     },
     "execution_count": 2,
     "metadata": {},
     "output_type": "execute_result"
    }
   ],
   "source": [
    "load_dotenv()"
   ]
  },
  {
   "cell_type": "code",
   "execution_count": 3,
   "id": "b4530904",
   "metadata": {},
   "outputs": [],
   "source": [
    "RESULTS_PATH = \"/workspace/exploration-hacking/artifacts/data/dfalck/science_locking/post_sft_eval_train.pkl\"\n",
    "\n",
    "with open(RESULTS_PATH, \"rb\") as f:\n",
    "    results = pickle.load(f)"
   ]
  },
  {
   "cell_type": "code",
   "execution_count": 4,
   "id": "cc2708cf",
   "metadata": {},
   "outputs": [],
   "source": [
    "logger = MLFlowLogger(\"science-locking-test\", concurrent=True)"
   ]
  },
  {
   "cell_type": "code",
   "execution_count": 5,
   "id": "962a9283",
   "metadata": {},
   "outputs": [
    {
     "data": {
      "text/html": [
       "\n",
       "<div>\n",
       "  <style scoped>\n",
       "  button {\n",
       "    border: none;\n",
       "    border-radius: 4px;\n",
       "    background-color: rgb(34, 114, 180);\n",
       "    font-family: -apple-system, \"system-ui\", \"Segoe UI\", Roboto, \"Helvetica Neue\", Arial;\n",
       "    font-size: 13px;\n",
       "    color: white;\n",
       "    margin-top: 8px;\n",
       "    margin-bottom: 8px;\n",
       "    padding: 8px 16px;\n",
       "    cursor: pointer;\n",
       "  }\n",
       "  button:hover {\n",
       "    background-color: rgb(66, 153, 224);\n",
       "  }\n",
       "  </style>\n",
       "  <button\n",
       "    onclick=\"\n",
       "        const display = this.nextElementSibling.style.display;\n",
       "        const isCollapsed = display === 'none';\n",
       "        this.nextElementSibling.style.display = isCollapsed ? null : 'none';\n",
       "\n",
       "        const verb = isCollapsed ? 'Collapse' : 'Expand';\n",
       "        this.innerText = `${verb} MLflow Trace`;\n",
       "    \"\n",
       "  >Collapse MLflow Trace</button>\n",
       "  <iframe\n",
       "    id=\"trace-renderer\"\n",
       "    style=\"width: 100%; height: 500px; border: none; resize: vertical;\"\n",
       "    src=\"https://hjfuqd88r169i8-5000.proxy.runpod.net/static-files/lib/notebook-trace-renderer/index.html?trace_id=tr-b91653c326ee02aaf2106f98d6c605c2&amp;experiment_id=1&amp;trace_id=tr-4d60db7831cbd421a7086e9d86ae17ee&amp;experiment_id=1&amp;trace_id=tr-e79045b5212529d7bb27b03ae4ebe580&amp;experiment_id=1&amp;trace_id=tr-5b80bfb33c7de799e53334b420a970a4&amp;experiment_id=1&amp;trace_id=tr-257d276639b6058e21a5d30450deeece&amp;experiment_id=1&amp;trace_id=tr-b513e31a23c8ce5e10bea3f31ba39cd3&amp;experiment_id=1&amp;trace_id=tr-c467fcd51f7f6cb7f3c79b2e7bca1f3d&amp;experiment_id=1&amp;trace_id=tr-23143d0219b2a5a161f5f3285ca7438a&amp;experiment_id=1&amp;trace_id=tr-40316767f2876ed5a2828eab08421931&amp;experiment_id=1&amp;trace_id=tr-636703997fdf0fdaa4f59799b39d2382&amp;experiment_id=1&amp;version=3.3.2\"\n",
       "  />\n",
       "</div>\n"
      ],
      "text/plain": [
       "[Trace(trace_id=tr-b91653c326ee02aaf2106f98d6c605c2), Trace(trace_id=tr-4d60db7831cbd421a7086e9d86ae17ee), Trace(trace_id=tr-e79045b5212529d7bb27b03ae4ebe580), Trace(trace_id=tr-5b80bfb33c7de799e53334b420a970a4), Trace(trace_id=tr-257d276639b6058e21a5d30450deeece), Trace(trace_id=tr-b513e31a23c8ce5e10bea3f31ba39cd3), Trace(trace_id=tr-c467fcd51f7f6cb7f3c79b2e7bca1f3d), Trace(trace_id=tr-23143d0219b2a5a161f5f3285ca7438a), Trace(trace_id=tr-40316767f2876ed5a2828eab08421931), Trace(trace_id=tr-636703997fdf0fdaa4f59799b39d2382)]"
      ]
     },
     "metadata": {},
     "output_type": "display_data"
    }
   ],
   "source": [
    "logger.log_spans_from_results(results.prompt, results.completion, results.reward, results.metrics, results.answer)"
   ]
  },
  {
   "cell_type": "code",
   "execution_count": null,
   "id": "99b69c14",
   "metadata": {},
   "outputs": [],
   "source": []
  }
 ],
 "metadata": {
  "kernelspec": {
   "display_name": "base",
   "language": "python",
   "name": "python3"
  },
  "language_info": {
   "codemirror_mode": {
    "name": "ipython",
    "version": 3
   },
   "file_extension": ".py",
   "mimetype": "text/x-python",
   "name": "python",
   "nbconvert_exporter": "python",
   "pygments_lexer": "ipython3",
   "version": "3.11.13"
  }
 },
 "nbformat": 4,
 "nbformat_minor": 5
}
