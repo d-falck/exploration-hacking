{
 "cells": [
  {
   "cell_type": "code",
   "execution_count": 1,
   "id": "a4f41760",
   "metadata": {},
   "outputs": [
    {
     "name": "stderr",
     "output_type": "stream",
     "text": [
      "/opt/conda/lib/python3.11/site-packages/pydantic/_internal/_generate_schema.py:2249: UnsupportedFieldAttributeWarning: The 'repr' attribute with value False was provided to the `Field()` function, which has no effect in the context it was used. 'repr' is field-specific metadata, and can only be attached to a model field using `Annotated` metadata or by assignment. This may have happened because an `Annotated` type alias using the `type` statement was used, or if the `Field()` function was attached to a single member of a union type.\n",
      "  warnings.warn(\n",
      "/opt/conda/lib/python3.11/site-packages/pydantic/_internal/_generate_schema.py:2249: UnsupportedFieldAttributeWarning: The 'frozen' attribute with value True was provided to the `Field()` function, which has no effect in the context it was used. 'frozen' is field-specific metadata, and can only be attached to a model field using `Annotated` metadata or by assignment. This may have happened because an `Annotated` type alias using the `type` statement was used, or if the `Field()` function was attached to a single member of a union type.\n",
      "  warnings.warn(\n"
     ]
    }
   ],
   "source": [
    "from dotenv import load_dotenv\n",
    "import pickle\n",
    "\n",
    "from exploration_hacking.util import MLFlowLogger"
   ]
  },
  {
   "cell_type": "code",
   "execution_count": 2,
   "id": "4ab6aa86",
   "metadata": {},
   "outputs": [
    {
     "data": {
      "text/plain": [
       "True"
      ]
     },
     "execution_count": 2,
     "metadata": {},
     "output_type": "execute_result"
    }
   ],
   "source": [
    "load_dotenv()"
   ]
  },
  {
   "cell_type": "code",
   "execution_count": 3,
   "id": "b4530904",
   "metadata": {},
   "outputs": [],
   "source": [
    "RESULTS_PATH = \"/workspace/exploration-hacking/artifacts/data/dfalck/science_locking/post_sft_eval_train.pkl\"\n",
    "\n",
    "with open(RESULTS_PATH, \"rb\") as f:\n",
    "    results = pickle.load(f)"
   ]
  },
  {
   "cell_type": "code",
   "execution_count": 4,
   "id": "cc2708cf",
   "metadata": {},
   "outputs": [
    {
     "name": "stdout",
     "output_type": "stream",
     "text": [
      "Experiment 'science-locking-test' already exists. Created: science-locking-test_3\n"
     ]
    },
    {
     "name": "stdout",
     "output_type": "stream",
     "text": [
      "Logging span generation with tags {'accuracy': '0.0', 'format_penalty_func': '0.0', 'completion_under_length_penalty': '0.0', 'completion_over_length_penalty': '0.0', 'total_tool_calls': '0.0', 'search_simple_calls': '0.0', 'follow_prompt': '0.78', 'reward': '0.78'}\n",
      "Logging span generation with tags {'accuracy': '1.0', 'format_penalty_func': '0.0', 'completion_under_length_penalty': '0.0', 'completion_over_length_penalty': '0.0', 'total_tool_calls': '1.0', 'search_simple_calls': '1.0', 'follow_prompt': '0.82', 'reward': '1.92'}\n"
     ]
    }
   ],
   "source": [
    "logger = MLFlowLogger(\"science-locking-test\", concurrent=True, use_process=True)"
   ]
  },
  {
   "cell_type": "code",
   "execution_count": 5,
   "id": "962a9283",
   "metadata": {},
   "outputs": [],
   "source": [
    "logger.log_spans_from_results(\n",
    "    results.prompt[:2],\n",
    "    results.completion[:2],\n",
    "    results.reward[:2],\n",
    "    {k: v[:2] for k, v in results.metrics.items()},\n",
    "    results.answer[:2],\n",
    ")"
   ]
  },
  {
   "cell_type": "code",
   "execution_count": 8,
   "id": "99b69c14",
   "metadata": {},
   "outputs": [],
   "source": [
    "logger.close()"
   ]
  },
  {
   "cell_type": "code",
   "execution_count": null,
   "id": "b1763fb5",
   "metadata": {},
   "outputs": [],
   "source": []
  }
 ],
 "metadata": {
  "kernelspec": {
   "display_name": "base",
   "language": "python",
   "name": "python3"
  },
  "language_info": {
   "codemirror_mode": {
    "name": "ipython",
    "version": 3
   },
   "file_extension": ".py",
   "mimetype": "text/x-python",
   "name": "python",
   "nbconvert_exporter": "python",
   "pygments_lexer": "ipython3",
   "version": "3.11.13"
  }
 },
 "nbformat": 4,
 "nbformat_minor": 5
}
