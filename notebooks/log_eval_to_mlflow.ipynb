{
 "cells": [
  {
   "cell_type": "code",
   "execution_count": 1,
   "id": "a4f41760",
   "metadata": {},
   "outputs": [],
   "source": [
    "from dotenv import load_dotenv\n",
    "import pickle\n",
    "\n",
    "from exploration_hacking.util import MLFlowLogger"
   ]
  },
  {
   "cell_type": "code",
   "execution_count": 2,
   "id": "4ab6aa86",
   "metadata": {},
   "outputs": [
    {
     "data": {
      "text/plain": [
       "True"
      ]
     },
     "execution_count": 2,
     "metadata": {},
     "output_type": "execute_result"
    }
   ],
   "source": [
    "load_dotenv()"
   ]
  },
  {
   "cell_type": "code",
   "execution_count": 3,
   "id": "b4530904",
   "metadata": {},
   "outputs": [],
   "source": [
    "RESULTS_PATH = \"/workspace/exploration-hacking/artifacts/data/dfalck/science_locking/post_sft_eval.pkl\"\n",
    "\n",
    "with open(RESULTS_PATH, \"rb\") as f:\n",
    "    results = pickle.load(f)"
   ]
  },
  {
   "cell_type": "code",
   "execution_count": 4,
   "id": "cc2708cf",
   "metadata": {},
   "outputs": [],
   "source": [
    "logger = MLFlowLogger(\"science-locking-post-sft-eval-2\", concurrent=True)"
   ]
  },
  {
   "cell_type": "code",
   "execution_count": 5,
   "id": "962a9283",
   "metadata": {},
   "outputs": [
    {
     "name": "stderr",
     "output_type": "stream",
     "text": [
      "2025/09/22 16:29:19 WARNING mlflow.tracing.export.mlflow_v3: Failed to send trace to MLflow backend: BAD_REQUEST: QueuePool limit of size 5 overflow 10 reached, connection timed out, timeout 30.00 (Background on this error at: https://sqlalche.me/e/20/3o7r)\n",
      "2025/09/22 16:29:19 WARNING mlflow.tracing.export.mlflow_v3: Failed to send trace to MLflow backend: BAD_REQUEST: QueuePool limit of size 5 overflow 10 reached, connection timed out, timeout 30.00 (Background on this error at: https://sqlalche.me/e/20/3o7r)\n",
      "2025/09/22 16:29:19 WARNING mlflow.tracing.export.mlflow_v3: Failed to send trace to MLflow backend: BAD_REQUEST: QueuePool limit of size 5 overflow 10 reached, connection timed out, timeout 30.00 (Background on this error at: https://sqlalche.me/e/20/3o7r)\n",
      "2025/09/22 16:29:19 WARNING mlflow.tracing.export.mlflow_v3: Failed to send trace to MLflow backend: BAD_REQUEST: QueuePool limit of size 5 overflow 10 reached, connection timed out, timeout 30.00 (Background on this error at: https://sqlalche.me/e/20/3o7r)\n",
      "2025/09/22 16:29:20 WARNING mlflow.tracing.export.mlflow_v3: Failed to send trace to MLflow backend: BAD_REQUEST: QueuePool limit of size 5 overflow 10 reached, connection timed out, timeout 30.00 (Background on this error at: https://sqlalche.me/e/20/3o7r)\n",
      "2025/09/22 16:29:20 WARNING mlflow.tracing.export.mlflow_v3: Failed to send trace to MLflow backend: BAD_REQUEST: QueuePool limit of size 5 overflow 10 reached, connection timed out, timeout 30.00 (Background on this error at: https://sqlalche.me/e/20/3o7r)\n",
      "2025/09/22 16:29:20 WARNING mlflow.tracing.export.mlflow_v3: Failed to send trace to MLflow backend: BAD_REQUEST: QueuePool limit of size 5 overflow 10 reached, connection timed out, timeout 30.00 (Background on this error at: https://sqlalche.me/e/20/3o7r)\n",
      "2025/09/22 16:29:20 WARNING mlflow.tracing.export.mlflow_v3: Failed to send trace to MLflow backend: BAD_REQUEST: QueuePool limit of size 5 overflow 10 reached, connection timed out, timeout 30.00 (Background on this error at: https://sqlalche.me/e/20/3o7r)\n",
      "2025/09/22 16:29:20 WARNING mlflow.tracing.export.mlflow_v3: Failed to send trace to MLflow backend: BAD_REQUEST: QueuePool limit of size 5 overflow 10 reached, connection timed out, timeout 30.00 (Background on this error at: https://sqlalche.me/e/20/3o7r)\n",
      "2025/09/22 16:29:20 WARNING mlflow.tracing.export.mlflow_v3: Failed to send trace to MLflow backend: BAD_REQUEST: QueuePool limit of size 5 overflow 10 reached, connection timed out, timeout 30.00 (Background on this error at: https://sqlalche.me/e/20/3o7r)\n",
      "2025/09/22 16:29:20 WARNING mlflow.tracing.export.mlflow_v3: Failed to send trace to MLflow backend: BAD_REQUEST: QueuePool limit of size 5 overflow 10 reached, connection timed out, timeout 30.00 (Background on this error at: https://sqlalche.me/e/20/3o7r)\n",
      "2025/09/22 16:29:20 WARNING mlflow.tracing.export.mlflow_v3: Failed to send trace to MLflow backend: BAD_REQUEST: QueuePool limit of size 5 overflow 10 reached, connection timed out, timeout 30.00 (Background on this error at: https://sqlalche.me/e/20/3o7r)\n",
      "2025/09/22 16:29:20 WARNING mlflow.tracing.export.mlflow_v3: Failed to send trace to MLflow backend: BAD_REQUEST: QueuePool limit of size 5 overflow 10 reached, connection timed out, timeout 30.00 (Background on this error at: https://sqlalche.me/e/20/3o7r)\n",
      "2025/09/22 16:29:20 WARNING mlflow.tracing.export.mlflow_v3: Failed to send trace to MLflow backend: BAD_REQUEST: QueuePool limit of size 5 overflow 10 reached, connection timed out, timeout 30.00 (Background on this error at: https://sqlalche.me/e/20/3o7r)\n",
      "2025/09/22 16:29:20 WARNING mlflow.tracing.export.mlflow_v3: Failed to send trace to MLflow backend: BAD_REQUEST: QueuePool limit of size 5 overflow 10 reached, connection timed out, timeout 30.00 (Background on this error at: https://sqlalche.me/e/20/3o7r)\n",
      "2025/09/22 16:29:20 WARNING mlflow.tracing.export.mlflow_v3: Failed to send trace to MLflow backend: BAD_REQUEST: QueuePool limit of size 5 overflow 10 reached, connection timed out, timeout 30.00 (Background on this error at: https://sqlalche.me/e/20/3o7r)\n",
      "2025/09/22 16:29:20 WARNING mlflow.tracing.export.mlflow_v3: Failed to send trace to MLflow backend: BAD_REQUEST: QueuePool limit of size 5 overflow 10 reached, connection timed out, timeout 30.00 (Background on this error at: https://sqlalche.me/e/20/3o7r)\n",
      "2025/09/22 16:29:49 WARNING mlflow.tracing.export.mlflow_v3: Failed to send trace to MLflow backend: BAD_REQUEST: QueuePool limit of size 5 overflow 10 reached, connection timed out, timeout 30.00 (Background on this error at: https://sqlalche.me/e/20/3o7r)\n",
      "2025/09/22 16:29:49 WARNING mlflow.tracing.export.mlflow_v3: Failed to send trace to MLflow backend: BAD_REQUEST: QueuePool limit of size 5 overflow 10 reached, connection timed out, timeout 30.00 (Background on this error at: https://sqlalche.me/e/20/3o7r)\n",
      "2025/09/22 16:29:49 WARNING mlflow.tracing.export.mlflow_v3: Failed to send trace to MLflow backend: BAD_REQUEST: QueuePool limit of size 5 overflow 10 reached, connection timed out, timeout 30.00 (Background on this error at: https://sqlalche.me/e/20/3o7r)\n",
      "2025/09/22 16:29:50 WARNING mlflow.tracing.export.mlflow_v3: Failed to send trace to MLflow backend: BAD_REQUEST: QueuePool limit of size 5 overflow 10 reached, connection timed out, timeout 30.00 (Background on this error at: https://sqlalche.me/e/20/3o7r)\n",
      "2025/09/22 16:29:50 WARNING mlflow.tracing.export.mlflow_v3: Failed to send trace to MLflow backend: BAD_REQUEST: QueuePool limit of size 5 overflow 10 reached, connection timed out, timeout 30.00 (Background on this error at: https://sqlalche.me/e/20/3o7r)\n",
      "2025/09/22 16:29:50 WARNING mlflow.tracing.export.mlflow_v3: Failed to send trace to MLflow backend: BAD_REQUEST: QueuePool limit of size 5 overflow 10 reached, connection timed out, timeout 30.00 (Background on this error at: https://sqlalche.me/e/20/3o7r)\n",
      "2025/09/22 16:29:50 WARNING mlflow.tracing.export.mlflow_v3: Failed to send trace to MLflow backend: BAD_REQUEST: QueuePool limit of size 5 overflow 10 reached, connection timed out, timeout 30.00 (Background on this error at: https://sqlalche.me/e/20/3o7r)\n",
      "2025/09/22 16:29:50 WARNING mlflow.tracing.export.mlflow_v3: Failed to send trace to MLflow backend: BAD_REQUEST: QueuePool limit of size 5 overflow 10 reached, connection timed out, timeout 30.00 (Background on this error at: https://sqlalche.me/e/20/3o7r)\n"
     ]
    },
    {
     "data": {
      "text/html": [
       "\n",
       "<div>\n",
       "  <style scoped>\n",
       "  button {\n",
       "    border: none;\n",
       "    border-radius: 4px;\n",
       "    background-color: rgb(34, 114, 180);\n",
       "    font-family: -apple-system, \"system-ui\", \"Segoe UI\", Roboto, \"Helvetica Neue\", Arial;\n",
       "    font-size: 13px;\n",
       "    color: white;\n",
       "    margin-top: 8px;\n",
       "    margin-bottom: 8px;\n",
       "    padding: 8px 16px;\n",
       "    cursor: pointer;\n",
       "  }\n",
       "  button:hover {\n",
       "    background-color: rgb(66, 153, 224);\n",
       "  }\n",
       "  </style>\n",
       "  <button\n",
       "    onclick=\"\n",
       "        const display = this.nextElementSibling.style.display;\n",
       "        const isCollapsed = display === 'none';\n",
       "        this.nextElementSibling.style.display = isCollapsed ? null : 'none';\n",
       "\n",
       "        const verb = isCollapsed ? 'Collapse' : 'Expand';\n",
       "        this.innerText = `${verb} MLflow Trace`;\n",
       "    \"\n",
       "  >Collapse MLflow Trace</button>\n",
       "  <iframe\n",
       "    id=\"trace-renderer\"\n",
       "    style=\"width: 100%; height: 500px; border: none; resize: vertical;\"\n",
       "    src=\"https://8ylj0u622051l2-5000.proxy.runpod.net/static-files/lib/notebook-trace-renderer/index.html?trace_id=tr-86d6c2059bf991f29fbe558376c9e4b5&amp;experiment_id=2&amp;trace_id=tr-0807bad39262fffba12cb640847f7d97&amp;experiment_id=2&amp;trace_id=tr-2626cb7dba1f7afd5180bd3f51ba32b4&amp;experiment_id=2&amp;trace_id=tr-d5ec0475f9f098ada8d8562301c97eb7&amp;experiment_id=2&amp;trace_id=tr-af9c12ce412b31bc41fa7368b70d533f&amp;experiment_id=2&amp;trace_id=tr-7eca17d77f48cc3af4e1259c0d72ace3&amp;experiment_id=2&amp;trace_id=tr-64217b38f9378389b06b16df9391470d&amp;experiment_id=2&amp;trace_id=tr-783af7794becdfc5c4d9ca6d04e32f1d&amp;experiment_id=2&amp;trace_id=tr-4116b43ef82d1e3dc08177f888836ad3&amp;experiment_id=2&amp;trace_id=tr-789e1e61bc91afaf6dc697b39cdd1cf0&amp;experiment_id=2&amp;version=3.3.2\"\n",
       "  />\n",
       "</div>\n"
      ],
      "text/plain": [
       "[Trace(trace_id=tr-86d6c2059bf991f29fbe558376c9e4b5), Trace(trace_id=tr-0807bad39262fffba12cb640847f7d97), Trace(trace_id=tr-2626cb7dba1f7afd5180bd3f51ba32b4), Trace(trace_id=tr-d5ec0475f9f098ada8d8562301c97eb7), Trace(trace_id=tr-af9c12ce412b31bc41fa7368b70d533f), Trace(trace_id=tr-7eca17d77f48cc3af4e1259c0d72ace3), Trace(trace_id=tr-64217b38f9378389b06b16df9391470d), Trace(trace_id=tr-783af7794becdfc5c4d9ca6d04e32f1d), Trace(trace_id=tr-4116b43ef82d1e3dc08177f888836ad3), Trace(trace_id=tr-789e1e61bc91afaf6dc697b39cdd1cf0)]"
      ]
     },
     "metadata": {},
     "output_type": "display_data"
    }
   ],
   "source": [
    "logger.log_spans_from_results(results.prompt, results.completion, results.reward, results.metrics, results.answer)"
   ]
  },
  {
   "cell_type": "code",
   "execution_count": null,
   "id": "99b69c14",
   "metadata": {},
   "outputs": [],
   "source": []
  }
 ],
 "metadata": {
  "kernelspec": {
   "display_name": "base",
   "language": "python",
   "name": "python3"
  },
  "language_info": {
   "codemirror_mode": {
    "name": "ipython",
    "version": 3
   },
   "file_extension": ".py",
   "mimetype": "text/x-python",
   "name": "python",
   "nbconvert_exporter": "python",
   "pygments_lexer": "ipython3",
   "version": "3.11.13"
  }
 },
 "nbformat": 4,
 "nbformat_minor": 5
}
