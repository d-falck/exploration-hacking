{
 "cells": [
  {
   "cell_type": "code",
   "execution_count": 2,
   "id": "08e69d2c",
   "metadata": {},
   "outputs": [],
   "source": [
    "from verifiers import GenerateOutputs"
   ]
  },
  {
   "cell_type": "code",
   "execution_count": 7,
   "id": "46a1b9ab",
   "metadata": {},
   "outputs": [],
   "source": [
    "from typing import Any\n",
    "from pydantic import field_serializer, BaseModel\n",
    "\n",
    "class Trajectories(GenerateOutputs):\n",
    "\n",
    "    @field_serializer(\"*\", mode=\"plain\")\n",
    "    def serialize_field(self, value: Any) -> object:\n",
    "        if isinstance(value, BaseModel):\n",
    "            return value.model_dump()\n",
    "        elif isinstance(value, list):\n",
    "            return [self.serialize_field(v) for v in value]\n",
    "        elif isinstance(value, dict):\n",
    "            return {k: self.serialize_field(v) for k, v in value.items()}\n",
    "        else:\n",
    "            return value\n",
    "    "
   ]
  },
  {
   "cell_type": "code",
   "execution_count": 8,
   "id": "62757a45",
   "metadata": {},
   "outputs": [],
   "source": [
    "import pickle\n",
    "\n",
    "RESULTS_PATH = \"/workspace/exploration-hacking/artifacts/data/dfalck/science_locking/post_sft_eval_train.pkl\"\n",
    "\n",
    "with open(RESULTS_PATH, \"rb\") as f:\n",
    "    results = pickle.load(f)"
   ]
  },
  {
   "cell_type": "code",
   "execution_count": 9,
   "id": "39efe634",
   "metadata": {},
   "outputs": [],
   "source": [
    "trajectories = Trajectories(**{k: getattr(results, k) for k in type(results).model_fields})"
   ]
  },
  {
   "cell_type": "code",
   "execution_count": 16,
   "id": "75597420",
   "metadata": {},
   "outputs": [],
   "source": [
    "import json\n",
    "\n",
    "d = trajectories.model_dump()\n",
    "string = json.dumps(d, indent=4)\n",
    "with open(\"trajectories.json\", \"w\") as f:\n",
    "    f.write(string)"
   ]
  },
  {
   "cell_type": "code",
   "execution_count": 17,
   "id": "9da216a1",
   "metadata": {},
   "outputs": [
    {
     "name": "stderr",
     "output_type": "stream",
     "text": [
      "/tmp/ipykernel_18343/1289325718.py:1: PydanticDeprecatedSince211: Accessing the 'model_fields' attribute on the instance is deprecated. Instead, you should access this attribute from the model class. Deprecated in Pydantic V2.11 to be removed in V3.0.\n",
      "  trajectories.model_fields\n"
     ]
    },
    {
     "data": {
      "text/plain": [
       "{'prompt': FieldInfo(annotation=list[Union[str, list[Annotated[Union[ChatCompletionDeveloperMessageParam, ChatCompletionSystemMessageParam, ChatCompletionUserMessageParam, ChatCompletionAssistantMessageParam, ChatCompletionToolMessageParam, ChatCompletionFunctionMessageParam], SkipValidation]]]], required=True),\n",
       " 'completion': FieldInfo(annotation=list[Union[str, list[Annotated[Union[ChatCompletionDeveloperMessageParam, ChatCompletionSystemMessageParam, ChatCompletionUserMessageParam, ChatCompletionAssistantMessageParam, ChatCompletionToolMessageParam, ChatCompletionFunctionMessageParam], SkipValidation]]]], required=True),\n",
       " 'answer': FieldInfo(annotation=list[str], required=True),\n",
       " 'state': FieldInfo(annotation=list[dict[str, Any]], required=True),\n",
       " 'info': FieldInfo(annotation=list[dict[str, Any]], required=True),\n",
       " 'task': FieldInfo(annotation=list[str], required=True),\n",
       " 'reward': FieldInfo(annotation=list[float], required=True),\n",
       " 'metrics': FieldInfo(annotation=dict[str, list[float]], required=False, default_factory=dict)}"
      ]
     },
     "execution_count": 17,
     "metadata": {},
     "output_type": "execute_result"
    }
   ],
   "source": [
    "trajectories.model_fields"
   ]
  },
  {
   "cell_type": "code",
   "execution_count": null,
   "id": "305d505d",
   "metadata": {},
   "outputs": [],
   "source": []
  }
 ],
 "metadata": {
  "kernelspec": {
   "display_name": "base",
   "language": "python",
   "name": "python3"
  },
  "language_info": {
   "codemirror_mode": {
    "name": "ipython",
    "version": 3
   },
   "file_extension": ".py",
   "mimetype": "text/x-python",
   "name": "python",
   "nbconvert_exporter": "python",
   "pygments_lexer": "ipython3",
   "version": "3.11.13"
  }
 },
 "nbformat": 4,
 "nbformat_minor": 5
}
