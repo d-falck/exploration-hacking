{
 "cells": [
  {
   "cell_type": "code",
   "execution_count": 1,
   "id": "cd2f79d6",
   "metadata": {},
   "outputs": [],
   "source": [
    "import os\n",
    "\n",
    "os.environ[\"MLFLOW_HTTP_POOL_MAXSIZE\"] = \"5\""
   ]
  },
  {
   "cell_type": "code",
   "execution_count": 2,
   "id": "286b0506",
   "metadata": {},
   "outputs": [],
   "source": [
    "import mlflow"
   ]
  },
  {
   "cell_type": "code",
   "execution_count": 4,
   "id": "50889ef8",
   "metadata": {},
   "outputs": [
    {
     "data": {
      "text/plain": [
       "True"
      ]
     },
     "execution_count": 4,
     "metadata": {},
     "output_type": "execute_result"
    }
   ],
   "source": [
    "from dotenv import load_dotenv\n",
    "\n",
    "load_dotenv()\n"
   ]
  },
  {
   "cell_type": "code",
   "execution_count": 5,
   "id": "928eb3ad",
   "metadata": {},
   "outputs": [],
   "source": [
    "from concurrent.futures import ThreadPoolExecutor"
   ]
  },
  {
   "cell_type": "code",
   "execution_count": 9,
   "id": "03a982db",
   "metadata": {},
   "outputs": [],
   "source": [
    "def _log_span(i):\n",
    "    inputs = {\"prompt\": [{\"role\": \"user\", \"content\": f\"Hello, world! num {i}\"}]}\n",
    "    span = mlflow.start_span_no_context(\"generation\", inputs=inputs)\n",
    "    try:\n",
    "        span.set_outputs(\n",
    "            {\"completion\": [{'role': 'assistant', 'content': 'Hello, world!' * 50}]}\n",
    "        )\n",
    "    finally:\n",
    "        span.end()"
   ]
  },
  {
   "cell_type": "code",
   "execution_count": 10,
   "id": "ba8ce0a5",
   "metadata": {},
   "outputs": [],
   "source": [
    "def _log_to_mlflow(name: str):\n",
    "    try:\n",
    "        mlflow.create_experiment(name)\n",
    "    except Exception as e:\n",
    "        print(f\"Error creating MLFlow experiment: {e}\")\n",
    "\n",
    "    mlflow.set_experiment(name)\n",
    "\n",
    "    for i in range(50):\n",
    "        print(i)\n",
    "        _log_span()\n",
    "        "
   ]
  },
  {
   "cell_type": "code",
   "execution_count": 11,
   "id": "e73922d8",
   "metadata": {},
   "outputs": [],
   "source": [
    "def _log_to_mlflow_threaded(name: str):\n",
    "    try:\n",
    "        mlflow.create_experiment(name)\n",
    "    except Exception as e:\n",
    "        print(f\"Error creating MLFlow experiment: {e}\")\n",
    "\n",
    "    mlflow.set_experiment(name)\n",
    "\n",
    "    with ThreadPoolExecutor(max_workers=100) as executor:\n",
    "        for i in range(100):\n",
    "            executor.submit(_log_span, i)\n",
    "        "
   ]
  },
  {
   "cell_type": "code",
   "execution_count": 12,
   "id": "1aeae87f",
   "metadata": {},
   "outputs": [
    {
     "data": {
      "text/html": [
       "\n",
       "<div>\n",
       "  <style scoped>\n",
       "  button {\n",
       "    border: none;\n",
       "    border-radius: 4px;\n",
       "    background-color: rgb(34, 114, 180);\n",
       "    font-family: -apple-system, \"system-ui\", \"Segoe UI\", Roboto, \"Helvetica Neue\", Arial;\n",
       "    font-size: 13px;\n",
       "    color: white;\n",
       "    margin-top: 8px;\n",
       "    margin-bottom: 8px;\n",
       "    padding: 8px 16px;\n",
       "    cursor: pointer;\n",
       "  }\n",
       "  button:hover {\n",
       "    background-color: rgb(66, 153, 224);\n",
       "  }\n",
       "  </style>\n",
       "  <button\n",
       "    onclick=\"\n",
       "        const display = this.nextElementSibling.style.display;\n",
       "        const isCollapsed = display === 'none';\n",
       "        this.nextElementSibling.style.display = isCollapsed ? null : 'none';\n",
       "\n",
       "        const verb = isCollapsed ? 'Collapse' : 'Expand';\n",
       "        this.innerText = `${verb} MLflow Trace`;\n",
       "    \"\n",
       "  >Collapse MLflow Trace</button>\n",
       "  <iframe\n",
       "    id=\"trace-renderer\"\n",
       "    style=\"width: 100%; height: 500px; border: none; resize: vertical;\"\n",
       "    src=\"https://mg59k1u4og5ohz-5000.proxy.runpod.net/static-files/lib/notebook-trace-renderer/index.html?trace_id=tr-246e95a0d1e4801fab7527573db13d79&amp;experiment_id=82&amp;trace_id=tr-4e8fbdc25192f243274c2fcad9087fab&amp;experiment_id=82&amp;trace_id=tr-a80bbecb54747ef84c12b1634e74b133&amp;experiment_id=82&amp;trace_id=tr-c8cace79f38faaa4ca7bc8886b4b7120&amp;experiment_id=82&amp;trace_id=tr-fb5bf6ad7cff1daf3a938dc529a5b98c&amp;experiment_id=82&amp;trace_id=tr-23bf67785b921b5bc5e806018b4b1a7f&amp;experiment_id=82&amp;trace_id=tr-ead5a5fea0f5a2f58db70b37fb48da41&amp;experiment_id=82&amp;trace_id=tr-9cb2c5b28d8c42456579885e3034d8a2&amp;experiment_id=82&amp;trace_id=tr-62eee92ca223411a43ae0c1ca6773ab4&amp;experiment_id=82&amp;trace_id=tr-b530fe3bb0c3b0be01c3c4a6ee07de77&amp;experiment_id=82&amp;version=3.3.2\"\n",
       "  />\n",
       "</div>\n"
      ],
      "text/plain": [
       "[Trace(trace_id=tr-246e95a0d1e4801fab7527573db13d79), Trace(trace_id=tr-4e8fbdc25192f243274c2fcad9087fab), Trace(trace_id=tr-a80bbecb54747ef84c12b1634e74b133), Trace(trace_id=tr-c8cace79f38faaa4ca7bc8886b4b7120), Trace(trace_id=tr-fb5bf6ad7cff1daf3a938dc529a5b98c), Trace(trace_id=tr-23bf67785b921b5bc5e806018b4b1a7f), Trace(trace_id=tr-ead5a5fea0f5a2f58db70b37fb48da41), Trace(trace_id=tr-9cb2c5b28d8c42456579885e3034d8a2), Trace(trace_id=tr-62eee92ca223411a43ae0c1ca6773ab4), Trace(trace_id=tr-b530fe3bb0c3b0be01c3c4a6ee07de77)]"
      ]
     },
     "metadata": {},
     "output_type": "display_data"
    }
   ],
   "source": [
    "_log_to_mlflow_threaded(\"test_experiment_4\")"
   ]
  },
  {
   "cell_type": "code",
   "execution_count": null,
   "id": "918c021d",
   "metadata": {},
   "outputs": [],
   "source": []
  }
 ],
 "metadata": {
  "kernelspec": {
   "display_name": "base",
   "language": "python",
   "name": "python3"
  },
  "language_info": {
   "codemirror_mode": {
    "name": "ipython",
    "version": 3
   },
   "file_extension": ".py",
   "mimetype": "text/x-python",
   "name": "python",
   "nbconvert_exporter": "python",
   "pygments_lexer": "ipython3",
   "version": "3.11.13"
  }
 },
 "nbformat": 4,
 "nbformat_minor": 5
}
