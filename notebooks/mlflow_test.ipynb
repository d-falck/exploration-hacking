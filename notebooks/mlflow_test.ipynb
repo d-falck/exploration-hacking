{
 "cells": [
  {
   "cell_type": "code",
   "execution_count": 3,
   "id": "286b0506",
   "metadata": {},
   "outputs": [],
   "source": [
    "import mlflow"
   ]
  },
  {
   "cell_type": "code",
   "execution_count": 4,
   "id": "50889ef8",
   "metadata": {},
   "outputs": [
    {
     "data": {
      "text/plain": [
       "True"
      ]
     },
     "execution_count": 4,
     "metadata": {},
     "output_type": "execute_result"
    }
   ],
   "source": [
    "from dotenv import load_dotenv\n",
    "\n",
    "load_dotenv()\n"
   ]
  },
  {
   "cell_type": "code",
   "execution_count": 9,
   "id": "928eb3ad",
   "metadata": {},
   "outputs": [],
   "source": [
    "from concurrent.futures import ThreadPoolExecutor, as_completed"
   ]
  },
  {
   "cell_type": "code",
   "execution_count": 8,
   "id": "03a982db",
   "metadata": {},
   "outputs": [],
   "source": [
    "def _log_span():\n",
    "    inputs = {\"prompt\": [{\"role\": \"user\", \"content\": \"Hello, world!\"}]}\n",
    "    span = mlflow.start_span_no_context(\"generation\", inputs=inputs)\n",
    "    try:\n",
    "        span.set_outputs(\n",
    "            {\"completion\": [{'role': 'assistant', 'content': 'Hello, world!'}]}\n",
    "        )\n",
    "    finally:\n",
    "        span.end()"
   ]
  },
  {
   "cell_type": "code",
   "execution_count": null,
   "id": "ba8ce0a5",
   "metadata": {},
   "outputs": [],
   "source": [
    "def _log_to_mlflow(name: str):\n",
    "    try:\n",
    "        mlflow.create_experiment(name)\n",
    "    except Exception as e:\n",
    "        print(f\"Error creating MLFlow experiment: {e}\")\n",
    "\n",
    "    mlflow.set_experiment(name)\n",
    "\n",
    "    for i in range(50):\n",
    "        print(i)\n",
    "        _log_span()\n",
    "        "
   ]
  },
  {
   "cell_type": "code",
   "execution_count": 10,
   "id": "e73922d8",
   "metadata": {},
   "outputs": [],
   "source": [
    "def _log_to_mlflow_threaded(name: str):\n",
    "    try:\n",
    "        mlflow.create_experiment(name)\n",
    "    except Exception as e:\n",
    "        print(f\"Error creating MLFlow experiment: {e}\")\n",
    "\n",
    "    mlflow.set_experiment(name)\n",
    "\n",
    "    with ThreadPoolExecutor(max_workers=50) as executor:\n",
    "        futures = [executor.submit(_log_span) for _ in range(50)]\n",
    "        for future in as_completed(futures):\n",
    "            future.result()\n",
    "        "
   ]
  },
  {
   "cell_type": "code",
   "execution_count": 12,
   "id": "1aeae87f",
   "metadata": {},
   "outputs": [
    {
     "data": {
      "text/html": [
       "\n",
       "<div>\n",
       "  <style scoped>\n",
       "  button {\n",
       "    border: none;\n",
       "    border-radius: 4px;\n",
       "    background-color: rgb(34, 114, 180);\n",
       "    font-family: -apple-system, \"system-ui\", \"Segoe UI\", Roboto, \"Helvetica Neue\", Arial;\n",
       "    font-size: 13px;\n",
       "    color: white;\n",
       "    margin-top: 8px;\n",
       "    margin-bottom: 8px;\n",
       "    padding: 8px 16px;\n",
       "    cursor: pointer;\n",
       "  }\n",
       "  button:hover {\n",
       "    background-color: rgb(66, 153, 224);\n",
       "  }\n",
       "  </style>\n",
       "  <button\n",
       "    onclick=\"\n",
       "        const display = this.nextElementSibling.style.display;\n",
       "        const isCollapsed = display === 'none';\n",
       "        this.nextElementSibling.style.display = isCollapsed ? null : 'none';\n",
       "\n",
       "        const verb = isCollapsed ? 'Collapse' : 'Expand';\n",
       "        this.innerText = `${verb} MLflow Trace`;\n",
       "    \"\n",
       "  >Collapse MLflow Trace</button>\n",
       "  <iframe\n",
       "    id=\"trace-renderer\"\n",
       "    style=\"width: 100%; height: 500px; border: none; resize: vertical;\"\n",
       "    src=\"https://mg59k1u4og5ohz-5000.proxy.runpod.net/static-files/lib/notebook-trace-renderer/index.html?trace_id=tr-f6b4a2078406077b1d852b7434753b47&amp;experiment_id=78&amp;trace_id=tr-2be6f8b3d8f3aea2c5e039360ff51773&amp;experiment_id=78&amp;trace_id=tr-41443ce0be323012c77d01601b265d45&amp;experiment_id=78&amp;trace_id=tr-d1e85aee054fbcb9a9fe847db09049bd&amp;experiment_id=78&amp;trace_id=tr-c1609de5df16f6701f95c40080a1ba9b&amp;experiment_id=78&amp;trace_id=tr-be87d8758aa5adcfdd3f42d92ce73e96&amp;experiment_id=78&amp;trace_id=tr-2063db3c59d9f3666164668d70b36d9d&amp;experiment_id=78&amp;trace_id=tr-855e7d88530eaf9a2290fa03824dd0b0&amp;experiment_id=78&amp;trace_id=tr-4e2116f3e43dd51bb7f8885c5ef3141c&amp;experiment_id=78&amp;trace_id=tr-4ada55962ab2d227ed2294a46de66237&amp;experiment_id=78&amp;version=3.3.2\"\n",
       "  />\n",
       "</div>\n"
      ],
      "text/plain": [
       "[Trace(trace_id=tr-f6b4a2078406077b1d852b7434753b47), Trace(trace_id=tr-2be6f8b3d8f3aea2c5e039360ff51773), Trace(trace_id=tr-41443ce0be323012c77d01601b265d45), Trace(trace_id=tr-d1e85aee054fbcb9a9fe847db09049bd), Trace(trace_id=tr-c1609de5df16f6701f95c40080a1ba9b), Trace(trace_id=tr-be87d8758aa5adcfdd3f42d92ce73e96), Trace(trace_id=tr-2063db3c59d9f3666164668d70b36d9d), Trace(trace_id=tr-855e7d88530eaf9a2290fa03824dd0b0), Trace(trace_id=tr-4e2116f3e43dd51bb7f8885c5ef3141c), Trace(trace_id=tr-4ada55962ab2d227ed2294a46de66237)]"
      ]
     },
     "metadata": {},
     "output_type": "display_data"
    }
   ],
   "source": [
    "_log_to_mlflow_threaded(\"test_experiment_2\")"
   ]
  },
  {
   "cell_type": "code",
   "execution_count": null,
   "id": "918c021d",
   "metadata": {},
   "outputs": [],
   "source": []
  }
 ],
 "metadata": {
  "kernelspec": {
   "display_name": "base",
   "language": "python",
   "name": "python3"
  },
  "language_info": {
   "codemirror_mode": {
    "name": "ipython",
    "version": 3
   },
   "file_extension": ".py",
   "mimetype": "text/x-python",
   "name": "python",
   "nbconvert_exporter": "python",
   "pygments_lexer": "ipython3",
   "version": "3.11.13"
  }
 },
 "nbformat": 4,
 "nbformat_minor": 5
}
