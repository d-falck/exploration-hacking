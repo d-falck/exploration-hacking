{
 "cells": [
  {
   "cell_type": "markdown",
   "id": "21e9f20d",
   "metadata": {},
   "source": [
    "# rLLM Search Training"
   ]
  },
  {
   "cell_type": "markdown",
   "id": "b5812b0e",
   "metadata": {},
   "source": [
    "## General Setup"
   ]
  },
  {
   "cell_type": "code",
   "execution_count": null,
   "id": "06e8bb04",
   "metadata": {},
   "outputs": [],
   "source": [
    "%load_ext autoreload\n",
    "%autoreload 2"
   ]
  },
  {
   "cell_type": "code",
   "execution_count": null,
   "id": "9541c382",
   "metadata": {},
   "outputs": [],
   "source": [
    "from dotenv import load_dotenv\n",
    "\n",
    "load_dotenv()"
   ]
  },
  {
   "cell_type": "markdown",
   "id": "4d000932",
   "metadata": {},
   "source": [
    "## Data Preparation Method"
   ]
  },
  {
   "cell_type": "code",
   "execution_count": null,
   "id": "7b4cb4cf",
   "metadata": {},
   "outputs": [],
   "source": [
    "from datasets import load_dataset\n",
    "\n",
    "from rllm.data.dataset import DatasetRegistry\n",
    "\n",
    "\n",
    "def prepare_hotpotqa_data(train_size=None, test_size=None):\n",
    "    \"\"\"\n",
    "    Loading HotpotQA dataset and registering it with the DatasetRegistry.\n",
    "    Only loads essential fields: question, ground_truth, data_source\n",
    "\n",
    "    Args:\n",
    "        train_size: Maximum number of training examples to load\n",
    "        test_size: Maximum number of test examples to load\n",
    "\n",
    "    Returns:\n",
    "        tuple: (train_dataset, test_dataset)\n",
    "    \"\"\"\n",
    "\n",
    "    def process_split(split_data, max_size):\n",
    "        \"\"\"Process a data split with optional size limit\"\"\"\n",
    "        if max_size is not None:\n",
    "            split_data = split_data.select(range(min(max_size, len(split_data))))\n",
    "        print(split_data)\n",
    "        processed = [{\"question\": example[\"question\"], \"ground_truth\": example[\"answer\"], \"data_source\": \"hotpotqa\"} for example in split_data]\n",
    "\n",
    "        print(f\"Processed {len(processed)} examples\")\n",
    "        return processed\n",
    "\n",
    "    print(\"Loading HotpotQA dataset...\")\n",
    "    hotpot_dataset = load_dataset(\"hotpotqa/hotpot_qa\", \"distractor\", trust_remote_code=True)\n",
    "\n",
    "    train_processed = process_split(hotpot_dataset[\"train\"], train_size)\n",
    "    test_processed = process_split(hotpot_dataset[\"validation\"], test_size)\n",
    "\n",
    "    train_dataset = DatasetRegistry.register_dataset(\"hotpotqa\", train_processed, \"train\")\n",
    "    test_dataset = DatasetRegistry.register_dataset(\"hotpotqa\", test_processed, \"test\")\n",
    "\n",
    "    return train_dataset, test_dataset"
   ]
  },
  {
   "cell_type": "markdown",
   "id": "24fc7afc",
   "metadata": {},
   "source": [
    "## Test Tool"
   ]
  },
  {
   "cell_type": "code",
   "execution_count": null,
   "id": "7f900f55",
   "metadata": {},
   "outputs": [],
   "source": [
    "from rllm.tools.web_tools import TavilySearchTool\n",
    "\n",
    "search_tool = TavilySearchTool()\n",
    "search_result = search_tool(query=\"Latest developments in AI research\")\n",
    "print(\"\\nSearch Tool Result:\")\n",
    "print(search_result)"
   ]
  },
  {
   "cell_type": "markdown",
   "id": "4f397daa",
   "metadata": {},
   "source": [
    "## Run Search Agent"
   ]
  },
  {
   "cell_type": "code",
   "execution_count": null,
   "id": "98a3f7ca",
   "metadata": {},
   "outputs": [],
   "source": [
    "import os\n",
    "\n",
    "from transformers import AutoTokenizer\n",
    "\n",
    "from rllm.agents.system_prompts import SEARCH_SYSTEM_PROMPT\n",
    "from rllm.agents.tool_agent import ToolAgent\n",
    "from rllm.data.dataset import DatasetRegistry\n",
    "from rllm.engine.agent_execution_engine import AgentExecutionEngine\n",
    "from rllm.environments.tools.tool_env import ToolEnvironment\n",
    "from rllm.rewards.reward_fn import search_reward_fn\n",
    "from rllm.tools.web_tools import TavilySearchTool\n",
    "from rllm.utils import save_trajectories"
   ]
  },
  {
   "cell_type": "code",
   "execution_count": null,
   "id": "3094e214",
   "metadata": {},
   "outputs": [],
   "source": [
    "def load_search_data(train_size=3000, test_size=100, force=False):\n",
    "    \"\"\"\n",
    "    Load search data, preparing it if not already available.\n",
    "    Returns the test dataset data for evaluation.\n",
    "    \"\"\"\n",
    "    test_dataset = DatasetRegistry.load_dataset(\"hotpotqa\", \"test\")\n",
    "    if test_dataset is None or force:\n",
    "        print(\"Dataset not found, preparing search dataset...\")\n",
    "        _, test_dataset = prepare_hotpotqa_data(train_size=train_size, test_size=test_size)\n",
    "\n",
    "    return test_dataset.get_data()"
   ]
  },
  {
   "cell_type": "code",
   "execution_count": null,
   "id": "23ba6152",
   "metadata": {},
   "outputs": [],
   "source": [
    "os.environ[\"TOKENIZERS_PARALLELISM\"] = \"true\""
   ]
  },
  {
   "cell_type": "code",
   "execution_count": null,
   "id": "07b18f22",
   "metadata": {},
   "outputs": [],
   "source": [
    "n_parallel_agents = 64\n",
    "\n",
    "model_name = \"Qwen/Qwen3-4B\"\n",
    "\n",
    "tokenizer = AutoTokenizer.from_pretrained(model_name)\n",
    "\n",
    "sampling_params = {\"temperature\": 0.6, \"top_p\": 0.95, \"model\": model_name}\n",
    "\n",
    "tool_map = {\"web_search\": TavilySearchTool}"
   ]
  },
  {
   "cell_type": "code",
   "execution_count": null,
   "id": "5212fd80",
   "metadata": {},
   "outputs": [],
   "source": [
    "engine = AgentExecutionEngine(\n",
    "    agent_class=ToolAgent,\n",
    "    agent_args={\"tool_map\": tool_map, \"system_prompt\": SEARCH_SYSTEM_PROMPT, \"parser_name\": \"qwen\"},\n",
    "    env_class=ToolEnvironment,\n",
    "    env_args={\"tool_map\": tool_map, \"reward_fn\": search_reward_fn},\n",
    "    rollout_engine=None,\n",
    "    engine_name=\"openai\",\n",
    "    tokenizer=tokenizer,\n",
    "    sampling_params=sampling_params,\n",
    "    rollout_engine_args={\n",
    "        \"base_url\": \"http://localhost:30000/v1\",\n",
    "        \"api_key\": \"None\",\n",
    "    },\n",
    "    max_response_length=16384,\n",
    "    max_prompt_length=4096,\n",
    "    config=None,\n",
    "    n_parallel_agents=n_parallel_agents,\n",
    ")"
   ]
  },
  {
   "cell_type": "code",
   "execution_count": null,
   "id": "671049b0",
   "metadata": {},
   "outputs": [],
   "source": [
    "tasks = load_search_data(force=True)"
   ]
  },
  {
   "cell_type": "code",
   "execution_count": null,
   "id": "b9c2bc49",
   "metadata": {},
   "outputs": [],
   "source": [
    "len(tasks)"
   ]
  },
  {
   "cell_type": "code",
   "execution_count": null,
   "id": "488fe07f",
   "metadata": {},
   "outputs": [],
   "source": [
    "results = await engine.execute_tasks(tasks)"
   ]
  },
  {
   "cell_type": "code",
   "execution_count": null,
   "id": "a91272ee",
   "metadata": {},
   "outputs": [],
   "source": [
    "save_trajectories(results, filename=\"search_trajectories.pt\")"
   ]
  },
  {
   "cell_type": "code",
   "execution_count": null,
   "id": "69e74d0d",
   "metadata": {},
   "outputs": [],
   "source": [
    "import rich"
   ]
  },
  {
   "cell_type": "code",
   "execution_count": null,
   "id": "a9678178",
   "metadata": {},
   "outputs": [],
   "source": [
    "rich.print(results[0].steps[0])"
   ]
  },
  {
   "cell_type": "code",
   "execution_count": null,
   "id": "5bb5578d",
   "metadata": {},
   "outputs": [],
   "source": [
    "results[0].steps[1].chat_completions"
   ]
  },
  {
   "cell_type": "markdown",
   "id": "9945829f",
   "metadata": {},
   "source": [
    "## Train Search Agent"
   ]
  },
  {
   "cell_type": "code",
   "execution_count": null,
   "id": "4b2c834a",
   "metadata": {},
   "outputs": [],
   "source": [
    "from rllm.agents.system_prompts import SEARCH_SYSTEM_PROMPT\n",
    "from rllm.agents.tool_agent import ToolAgent\n",
    "from rllm.data import DatasetRegistry\n",
    "from rllm.environments.tools.tool_env import ToolEnvironment\n",
    "from rllm.rewards.reward_fn import search_reward_fn\n",
    "from rllm.tools.web_tools import TavilySearchTool\n",
    "from rllm.trainer.agent_trainer import AgentTrainer"
   ]
  },
  {
   "cell_type": "code",
   "execution_count": null,
   "id": "5c4e5e1c",
   "metadata": {},
   "outputs": [],
   "source": [
    "override_dict = {\n",
    "    \"actor_rollout_ref.actor.clip_ratio_high\": 0.28,\n",
    "    \"actor_rollout_ref.actor.entropy_coeff\": 0,\n",
    "    \"actor_rollout_ref.actor.fsdp_config.optimizer_offload\": True,\n",
    "    \"actor_rollout_ref.actor.fsdp_config.param_offload\": True,\n",
    "    \"actor_rollout_ref.actor.kl_loss_coef\": 0.001,\n",
    "    \"actor_rollout_ref.actor.kl_loss_type\": \"low_var_kl\",\n",
    "    \"actor_rollout_ref.actor.loss_agg_mode\": \"seq-mean-token-sum\",\n",
    "    \"actor_rollout_ref.actor.optim.lr\": 1e-6,\n",
    "    \"actor_rollout_ref.actor.ppo_max_token_len_per_gpu\": 2048,\n",
    "    \"actor_rollout_ref.actor.ppo_mini_batch_size\": 16,\n",
    "    \"actor_rollout_ref.actor.ulysses_sequence_parallel_size\": 1,\n",
    "    \"actor_rollout_ref.actor.use_dynamic_bsz\": True,\n",
    "    \"actor_rollout_ref.actor.use_kl_loss\": False,\n",
    "    \"actor_rollout_ref.hybrid_engine\": True,\n",
    "    \"actor_rollout_ref.model.enable_gradient_checkpointing\": True,\n",
    "    \"actor_rollout_ref.model.path\": \"Qwen/Qwen3-4B\",\n",
    "    \"actor_rollout_ref.model.use_remove_padding\": True,\n",
    "    \"actor_rollout_ref.ref.fsdp_config.param_offload\": True,\n",
    "    \"actor_rollout_ref.ref.log_prob_micro_batch_size_per_gpu\": 1,\n",
    "    \"actor_rollout_ref.rollout.chat_scheduler\": \"verl.schedulers.completions_scheduler.CompletionsScheduler\",\n",
    "    \"actor_rollout_ref.rollout.enforce_eager\": False,\n",
    "    \"actor_rollout_ref.rollout.gpu_memory_utilization\": 0.6,\n",
    "    \"actor_rollout_ref.rollout.log_prob_micro_batch_size_per_gpu\": 1,\n",
    "    \"actor_rollout_ref.rollout.mode\": \"async\",\n",
    "    \"actor_rollout_ref.rollout.n\": 4,\n",
    "    \"actor_rollout_ref.rollout.name\": \"vllm\",\n",
    "    \"actor_rollout_ref.rollout.temperature\": 0.7,\n",
    "    \"actor_rollout_ref.rollout.tensor_model_parallel_size\": 1,\n",
    "    \"actor_rollout_ref.rollout.val_kwargs.n\": 1,\n",
    "    \"actor_rollout_ref.rollout.val_kwargs.temperature\": 0.7,\n",
    "    \"actor_rollout_ref.rollout.val_kwargs.top_k\": 20,\n",
    "    \"actor_rollout_ref.rollout.val_kwargs.top_p\": 0.8,\n",
    "    \"agent.async_engine\": True,\n",
    "    \"agent.max_steps\": 5,\n",
    "    \"algorithm.adv_estimator\": \"loop\",\n",
    "    \"algorithm.clip_advantages\": False,\n",
    "    \"algorithm.kl_ctrl.kl_coef\": 0.001,\n",
    "    \"algorithm.mask_truncated_samples\": False,\n",
    "    \"data.max_prompt_length\": 1024,\n",
    "    \"data.max_response_length\": 1024,\n",
    "    \"data.train_batch_size\": 32,\n",
    "    \"data.val_batch_size\": 10,\n",
    "    \"trainer.critic_warmup\": 0,\n",
    "    \"trainer.default_hdfs_dir\": None,\n",
    "    \"trainer.experiment_name\": \"7b-loop-drgrpo-search_agent\",\n",
    "    \"trainer.logger\": [\"console\", \"wandb\"],\n",
    "    \"trainer.n_gpus_per_node\": 1,\n",
    "    \"trainer.nnodes\": 1,\n",
    "    \"trainer.project_name\": \"deepscaler-agent\",\n",
    "    \"trainer.save_freq\": 40,\n",
    "    \"trainer.test_freq\": 10,\n",
    "    \"trainer.total_epochs\": 100,\n",
    "    \"trainer.val_before_train\": False,\n",
    "}"
   ]
  },
  {
   "cell_type": "code",
   "execution_count": null,
   "id": "540cb01f",
   "metadata": {},
   "outputs": [],
   "source": [
    "render = lambda x: \"null\" if x is None else x\n",
    "overrides = [f\"{k}={render(v)}\" for k, v in override_dict.items()]"
   ]
  },
  {
   "cell_type": "code",
   "execution_count": null,
   "id": "597d9db8",
   "metadata": {},
   "outputs": [],
   "source": [
    "from hydra import compose, initialize\n",
    "\n",
    "with initialize(config_path=\"../rllm/rllm/trainer/config\", version_base=None):\n",
    "    config = compose(config_name=\"ppo_trainer\", overrides=overrides)"
   ]
  },
  {
   "cell_type": "code",
   "execution_count": null,
   "id": "1cd7e028",
   "metadata": {},
   "outputs": [],
   "source": [
    "import os\n",
    "import rllm\n",
    "rllm_dir = os.path.dirname(os.path.dirname(rllm.__file__))"
   ]
  },
  {
   "cell_type": "code",
   "execution_count": null,
   "id": "d2c84e7f",
   "metadata": {},
   "outputs": [],
   "source": [
    "os.environ[\"VLLM_ATTENTION_BACKEND\"] = \"FLASH_ATTN\"\n",
    "os.environ[\"PYTORCH_CUDA_ALLOC_CONF\"] = \"expandable_segments:True\"\n",
    "os.environ[\"VLLM_USE_V1\"] = \"1\"\n",
    "os.environ[\"VLLM_ALLOW_LONG_MAX_MODEL_LEN\"] = \"1\"\n",
    "os.environ[\"VLLM_ENGINE_ITERATION_TIMEOUT_S\"] = \"100000000000\"\n",
    "os.environ[\"RLLM_DIR\"] = rllm_dir"
   ]
  },
  {
   "cell_type": "code",
   "execution_count": null,
   "id": "d84d099d",
   "metadata": {},
   "outputs": [],
   "source": [
    "prepare_hotpotqa_data(train_size=32, test_size=10)"
   ]
  },
  {
   "cell_type": "code",
   "execution_count": null,
   "id": "e19f1750",
   "metadata": {},
   "outputs": [],
   "source": [
    "train_dataset = DatasetRegistry.load_dataset(\"hotpotqa\", \"train\")\n",
    "val_dataset = DatasetRegistry.load_dataset(\"hotpotqa\", \"test\")\n",
    "\n",
    "tool_map = {\"web_search\": TavilySearchTool}\n",
    "\n",
    "env_args = {\n",
    "    \"max_steps\": 10,\n",
    "    \"tool_map\": tool_map,\n",
    "    \"reward_fn\": search_reward_fn,\n",
    "}\n",
    "\n",
    "agent_args = {\"system_prompt\": SEARCH_SYSTEM_PROMPT, \"tool_map\": tool_map, \"parser_name\": \"qwen\"}\n",
    "\n",
    "trainer = AgentTrainer(\n",
    "    agent_class=ToolAgent,\n",
    "    env_class=ToolEnvironment,\n",
    "    config=config,\n",
    "    train_dataset=train_dataset,\n",
    "    val_dataset=val_dataset,\n",
    "    agent_args=agent_args,\n",
    "    env_args=env_args,\n",
    ")"
   ]
  },
  {
   "cell_type": "code",
   "execution_count": null,
   "id": "c4c8c886",
   "metadata": {},
   "outputs": [],
   "source": [
    "trainer.train()"
   ]
  },
  {
   "cell_type": "code",
   "execution_count": null,
   "id": "6cedd0d1",
   "metadata": {},
   "outputs": [],
   "source": []
  }
 ],
 "metadata": {
  "kernelspec": {
   "display_name": "Python 3",
   "language": "python",
   "name": "python3"
  },
  "language_info": {
   "codemirror_mode": {
    "name": "ipython",
    "version": 3
   },
   "file_extension": ".py",
   "mimetype": "text/x-python",
   "name": "python",
   "nbconvert_exporter": "python",
   "pygments_lexer": "ipython3",
   "version": "3.11.11"
  }
 },
 "nbformat": 4,
 "nbformat_minor": 5
}
