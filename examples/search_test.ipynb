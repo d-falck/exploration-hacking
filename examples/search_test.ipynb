{
 "cells": [
  {
   "cell_type": "code",
   "execution_count": 1,
   "id": "9082e1ff",
   "metadata": {},
   "outputs": [],
   "source": [
    "%load_ext autoreload\n",
    "%autoreload 2\n"
   ]
  },
  {
   "cell_type": "code",
   "execution_count": 2,
   "id": "386d1311",
   "metadata": {},
   "outputs": [
    {
     "data": {
      "text/plain": [
       "True"
      ]
     },
     "execution_count": 2,
     "metadata": {},
     "output_type": "execute_result"
    }
   ],
   "source": [
    "from dotenv import load_dotenv\n",
    "\n",
    "load_dotenv()"
   ]
  },
  {
   "cell_type": "markdown",
   "id": "b121dfe9",
   "metadata": {},
   "source": [
    "# Tavily"
   ]
  },
  {
   "cell_type": "code",
   "execution_count": null,
   "id": "44e07980",
   "metadata": {},
   "outputs": [],
   "source": [
    "from tavily import AsyncTavilyClient\n",
    "client = AsyncTavilyClient()\n",
    "response = await client.search(\"botox inactivation methods\", max_results=5)"
   ]
  },
  {
   "cell_type": "markdown",
   "id": "586022e4",
   "metadata": {},
   "source": [
    "# Exa"
   ]
  },
  {
   "cell_type": "code",
   "execution_count": null,
   "id": "48dded26",
   "metadata": {},
   "outputs": [],
   "source": [
    "from exa_py import AsyncExa"
   ]
  },
  {
   "cell_type": "code",
   "execution_count": null,
   "id": "d13f7303",
   "metadata": {},
   "outputs": [],
   "source": [
    "response"
   ]
  },
  {
   "cell_type": "code",
   "execution_count": null,
   "id": "dfc68333",
   "metadata": {},
   "outputs": [],
   "source": [
    "client = AsyncExa(None)"
   ]
  },
  {
   "cell_type": "code",
   "execution_count": null,
   "id": "a97cbaa1",
   "metadata": {},
   "outputs": [],
   "source": [
    "response = await client.search_and_contents(\"botox inactivation methods\", highlights={\"numSentences\": 1, \"query\": \"botox inactivation methods\"}, summary=True, num_results=5)"
   ]
  },
  {
   "cell_type": "code",
   "execution_count": null,
   "id": "e308e2f9",
   "metadata": {},
   "outputs": [],
   "source": [
    "import rich\n",
    "\n",
    "rich.print(response)"
   ]
  },
  {
   "cell_type": "code",
   "execution_count": null,
   "id": "41f9fb41",
   "metadata": {},
   "outputs": [],
   "source": [
    "response = await client.get_contents([\"https://www.iroamly.com/france-travel/what-is-the-capital-of-france.html\"], highlights={\"query\": \"name of the capital of france\"})"
   ]
  },
  {
   "cell_type": "code",
   "execution_count": null,
   "id": "1f6d8b36",
   "metadata": {},
   "outputs": [],
   "source": [
    "rich.print(response)"
   ]
  },
  {
   "cell_type": "code",
   "execution_count": 5,
   "id": "dd44faa0",
   "metadata": {},
   "outputs": [],
   "source": [
    "from exploration_hacking.tools.web import summarize_page"
   ]
  },
  {
   "cell_type": "code",
   "execution_count": 6,
   "id": "cd03b2bb",
   "metadata": {},
   "outputs": [
    {
     "data": {
      "text/plain": [
       "'The webpage provides comprehensive safety guidelines for working with toxins of biological origin, emphasizing those regulated as \"Select Agent Toxins\" like botulinum neurotoxins, ricin, and staphylococcal enterotoxins. It highlights that, when proper safety practices are followed, laboratory use of these toxins can be conducted with minimal risk. Key points include the importance of thorough training for laboratory personnel, conducting risk assessments, and developing specific safety procedures and containment measures. The manual covers handling protocols, decontamination, spill response, and inactivation methods, ensuring safe laboratory practices to prevent accidental exposure, aerosol generation, or injuries. Overall, it underscores that with appropriate precautions, the hazards posed by biological toxins can be effectively managed.'"
      ]
     },
     "execution_count": 6,
     "metadata": {},
     "output_type": "execute_result"
    }
   ],
   "source": [
    "await summarize_page(\"https://policies.unc.edu/TDClient/2833/Portal/KB/ArticleDet?ID=131901\", \"botox inactivation methods\")"
   ]
  },
  {
   "cell_type": "markdown",
   "id": "434ec474",
   "metadata": {},
   "source": [
    "# Serper"
   ]
  },
  {
   "cell_type": "code",
   "execution_count": null,
   "id": "a473d9f3",
   "metadata": {},
   "outputs": [],
   "source": [
    "from exploration_hacking.tools._serper import search"
   ]
  },
  {
   "cell_type": "code",
   "execution_count": null,
   "id": "60e93532",
   "metadata": {},
   "outputs": [],
   "source": [
    "await search(\"botox inactivation methods\")"
   ]
  },
  {
   "cell_type": "code",
   "execution_count": null,
   "id": "3de63498",
   "metadata": {},
   "outputs": [],
   "source": [
    "await serper_search(\"botox inactivation methods\", max_results=5)"
   ]
  },
  {
   "cell_type": "code",
   "execution_count": null,
   "id": "44255b2e",
   "metadata": {},
   "outputs": [],
   "source": [
    "\n",
    "\n",
    "result"
   ]
  },
  {
   "cell_type": "markdown",
   "id": "a2d2c551",
   "metadata": {},
   "source": []
  }
 ],
 "metadata": {
  "kernelspec": {
   "display_name": "base",
   "language": "python",
   "name": "python3"
  },
  "language_info": {
   "codemirror_mode": {
    "name": "ipython",
    "version": 3
   },
   "file_extension": ".py",
   "mimetype": "text/x-python",
   "name": "python",
   "nbconvert_exporter": "python",
   "pygments_lexer": "ipython3",
   "version": "3.11.13"
  }
 },
 "nbformat": 4,
 "nbformat_minor": 5
}
